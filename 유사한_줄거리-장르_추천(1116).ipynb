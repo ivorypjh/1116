{
 "cells": [
  {
   "cell_type": "markdown",
   "id": "95b27ca3",
   "metadata": {},
   "source": [
    "## 공용 코드"
   ]
  },
  {
   "cell_type": "code",
   "execution_count": 1,
   "id": "8d1ec2af",
   "metadata": {},
   "outputs": [],
   "source": [
    "# 파이썬\n",
    "# ≥3.5 필수\n",
    "import sys\n",
    "assert sys.version_info >= (3, 5)\n",
    "\n",
    "# 공통 모듈 임포트\n",
    "import numpy as np\n",
    "import pandas as pd\n",
    "import os\n",
    "\n",
    "# 깔끔한 그래프 출력을 위해 %matplotlib inline\n",
    "import matplotlib as mpl\n",
    "import matplotlib.pyplot as plt\n",
    "\n",
    "path = \"c:/Windows/Fonts/malgun.ttf\"\n",
    "\n",
    "from matplotlib import font_manager, rc\n",
    "\n",
    "import platform\n",
    "\n",
    "if platform.system() == 'Darwin':\n",
    "    rc('font', family='AppleGothic')\n",
    "elif platform.system() == 'Windows':\n",
    "    font_name = font_manager.FontProperties(fname=path).get_name()\n",
    "    rc('font', family=font_name)\n",
    "    \n",
    "mpl.rcParams['axes.unicode_minus'] = False\n",
    "# Jupyter Notebook의 출력을 소수점 이하 3자리로 제한\n",
    "%precision 3\n",
    "\n",
    "import sklearn\n",
    "assert sklearn.__version__ >= \"0.20\"\n",
    "\n",
    "# 시드 고정\n",
    "np.random.seed(21)"
   ]
  },
  {
   "cell_type": "markdown",
   "id": "d246462b",
   "metadata": {},
   "source": [
    "## 장르 추천"
   ]
  },
  {
   "cell_type": "markdown",
   "id": "ee1d5040",
   "metadata": {},
   "source": [
    "### 세부 장르 가져오기"
   ]
  },
  {
   "cell_type": "code",
   "execution_count": null,
   "id": "f0e4dafc",
   "metadata": {},
   "outputs": [],
   "source": [
    "# 파일에서 세부 장르 데이터 가져오기\n",
    "\n",
    "open_file = open('./text files/detail_genre.txt', 'r', encoding = 'utf8')\n",
    "text = open_file.read()\n",
    "open_file.close()\n",
    "\n",
    "# 파일에서 읽어온 데이터 확인\n",
    "print(text)\n",
    "\n",
    "data_list = text.split('\\n')\n",
    "\n",
    "# data_list 의 마지막에 공백이 추가되므로 공백 제거\n",
    "data_list = data_list[:-2]\n",
    "# 확인\n",
    "print(data_list)"
   ]
  },
  {
   "cell_type": "markdown",
   "id": "91476bf1",
   "metadata": {},
   "source": [
    "### 세부 장르별 단어 가져오기"
   ]
  },
  {
   "cell_type": "code",
   "execution_count": 9,
   "id": "3afccc67",
   "metadata": {},
   "outputs": [],
   "source": [
    "word_dict_data = {}\n",
    "\n",
    "# 각 세부 장르 별로 단어 리스트 생성하고 저장\n",
    "for detail_genre in data_list:\n",
    "    # 각 세부 장르에 대해 단어 데이터 가져오기\n",
    "    open_file = open('./text files/' + detail_genre + '_words.txt', 'r', encoding = 'utf8')\n",
    "    text = open_file.read()\n",
    "    \n",
    "    # 파일 닫기\n",
    "    open_file.close()\n",
    "    \n",
    "    # 각 단어 분리하기\n",
    "    text_list = text.split('\\n')\n",
    "    text_list = text_list[:-2] # 마지막의 공백 제외\n",
    "    \n",
    "    # 단어 리스트를 dict 형태로 저장\n",
    "    word_dict_data[detail_genre] = text_list"
   ]
  },
  {
   "cell_type": "code",
   "execution_count": 10,
   "id": "cfa11c76",
   "metadata": {},
   "outputs": [
    {
     "data": {
      "text/plain": [
       "['땅',\n",
       " '기운',\n",
       " '점',\n",
       " '인간',\n",
       " '운명',\n",
       " '수',\n",
       " '천재',\n",
       " '지관',\n",
       " '박재상',\n",
       " '명당',\n",
       " '이용',\n",
       " '천하',\n",
       " '권력',\n",
       " '장동',\n",
       " '김씨',\n",
       " '가문',\n",
       " '계획',\n",
       " '가족',\n",
       " '후',\n",
       " '복수',\n",
       " '왕족']"
      ]
     },
     "execution_count": 10,
     "metadata": {},
     "output_type": "execute_result"
    }
   ],
   "source": [
    "word_dict_data['영화-역사']"
   ]
  },
  {
   "cell_type": "markdown",
   "id": "5ecfa2eb",
   "metadata": {},
   "source": [
    "### 세부 장르별 단어 정리"
   ]
  },
  {
   "cell_type": "code",
   "execution_count": 5,
   "id": "ff6f1d77",
   "metadata": {},
   "outputs": [],
   "source": [
    "from sklearn.feature_extraction.text import CountVectorizer\n",
    "from konlpy.tag import Okt"
   ]
  },
  {
   "cell_type": "code",
   "execution_count": 21,
   "id": "0e951fee",
   "metadata": {},
   "outputs": [],
   "source": [
    "# 각 장르별 단어 저장하기\n",
    "\n",
    "# 장르별 벡터 저장\n",
    "word_vector_dict = {}\n",
    "\n",
    "okt = Okt()\n",
    "vectorizer = CountVectorizer(min_df = 0.05)\n",
    "    \n",
    "for detail_genre in data_list:\n",
    "    contents_tokens = word_dict_data[detail_genre]\n",
    "\n",
    "    # 벡터화를 위해 단어들을 가지고 문장 생성\n",
    "    contents_for_vect = []\n",
    "    sentence = ''\n",
    "    # 토큰 단위로 구분된 문장을 생성\n",
    "    for content in contents_tokens:\n",
    "        sentence += ' ' + content\n",
    "\n",
    "    # 생성한 문장을 리스트에 추가\n",
    "    contents_for_vect.append(sentence)\n",
    "    \n",
    "    word_vector_dict[detail_genre] = contents_for_vect"
   ]
  },
  {
   "cell_type": "code",
   "execution_count": null,
   "id": "34b47685",
   "metadata": {},
   "outputs": [],
   "source": [
    "word_vector_dict['TV 시사&교양-기타'][0]"
   ]
  },
  {
   "cell_type": "code",
   "execution_count": 20,
   "id": "9b007311",
   "metadata": {},
   "outputs": [
    {
     "data": {
      "text/plain": [
       "[' 아이스크림 모기 탭댄스 버섯 껌 빙판 빨대 식충식물 달팽이 코골 팝콘 수족관 햄 초능력 파리']"
      ]
     },
     "execution_count": 20,
     "metadata": {},
     "output_type": "execute_result"
    }
   ],
   "source": [
    "contents_for_vect"
   ]
  },
  {
   "cell_type": "markdown",
   "id": "92711b89",
   "metadata": {},
   "source": [
    "## 샘플 줄거리 데이터를 활용해서 거리 계산"
   ]
  },
  {
   "cell_type": "code",
   "execution_count": 18,
   "id": "a7869e6a",
   "metadata": {},
   "outputs": [],
   "source": [
    "from konlpy.tag import Twitter"
   ]
  },
  {
   "cell_type": "code",
   "execution_count": 19,
   "id": "eb22f1f5",
   "metadata": {
    "scrolled": true
   },
   "outputs": [
    {
     "name": "stderr",
     "output_type": "stream",
     "text": [
      "C:\\Users\\USER\\anaconda3\\lib\\site-packages\\konlpy\\tag\\_okt.py:17: UserWarning: \"Twitter\" has changed to \"Okt\" since KoNLPy v0.4.5.\n",
      "  warn('\"Twitter\" has changed to \"Okt\" since KoNLPy v0.4.5.')\n"
     ]
    }
   ],
   "source": [
    "# 샘플 줄거리 데이터 \n",
    "new_content = '밀실 안의 살인자, 정유정은 누구인가? 20대 또래 여성을 살해한 정유정의 정체와 범행 동기가 무엇인지에 대해 추적해 본다.'\n",
    "\n",
    "# 샘플 문장 토큰화\n",
    "spliter = Twitter()\n",
    "words = spliter.nouns(new_content)\n",
    "\n",
    "# 테스트 문장을 피처 벡터화\n",
    "new_content_vect = vectorizer.transform(words)"
   ]
  },
  {
   "cell_type": "code",
   "execution_count": null,
   "id": "000a9f32",
   "metadata": {},
   "outputs": [],
   "source": [
    "okt = Okt()\n",
    "vectorizer = CountVectorizer(min_df = 0.005)\n",
    "\n",
    "# 각 세부 장르별 단어 사전을 생성하고 샘플 줄거리 데이터와 비교해서 거리 계산하기\n",
    "for detail_genre in data_list:\n",
    "    temp_sentence = ''\n",
    "    \n",
    "    # 단어 사전 생성하기\n",
    "    words_for_dictionary = word_vector_dict[detail_genre]\n",
    "    splitter = Twitter()\n",
    "    dictionary = splitter.nouns(words_for_dictionary[0])\n",
    "    \n",
    "        \n",
    "    # 사전 피처 벡터화\n",
    "    X = vectorizer.fit_transform(dictionary)\n",
    "    post_vec = X.getrow(0)\n",
    "    print(post_vec)\n",
    "    print(type(post_vec))\n",
    "    \n",
    "    "
   ]
  },
  {
   "cell_type": "code",
   "execution_count": null,
   "id": "4616287e",
   "metadata": {},
   "outputs": [],
   "source": []
  },
  {
   "cell_type": "code",
   "execution_count": null,
   "id": "6a771c23",
   "metadata": {},
   "outputs": [],
   "source": []
  },
  {
   "cell_type": "code",
   "execution_count": null,
   "id": "839eb272",
   "metadata": {},
   "outputs": [],
   "source": []
  },
  {
   "cell_type": "code",
   "execution_count": null,
   "id": "a27b051a",
   "metadata": {},
   "outputs": [],
   "source": []
  },
  {
   "cell_type": "code",
   "execution_count": null,
   "id": "1255c592",
   "metadata": {},
   "outputs": [],
   "source": []
  },
  {
   "cell_type": "code",
   "execution_count": null,
   "id": "7ec91111",
   "metadata": {},
   "outputs": [],
   "source": []
  },
  {
   "cell_type": "code",
   "execution_count": null,
   "id": "f0849243",
   "metadata": {},
   "outputs": [],
   "source": []
  }
 ],
 "metadata": {
  "kernelspec": {
   "display_name": "Python 3 (ipykernel)",
   "language": "python",
   "name": "python3"
  },
  "language_info": {
   "codemirror_mode": {
    "name": "ipython",
    "version": 3
   },
   "file_extension": ".py",
   "mimetype": "text/x-python",
   "name": "python",
   "nbconvert_exporter": "python",
   "pygments_lexer": "ipython3",
   "version": "3.10.9"
  }
 },
 "nbformat": 4,
 "nbformat_minor": 5
}
